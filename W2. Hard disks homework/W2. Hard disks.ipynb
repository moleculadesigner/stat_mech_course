{
 "cells": [
  {
   "cell_type": "code",
   "execution_count": 1,
   "id": "78bb25c2",
   "metadata": {},
   "outputs": [],
   "source": [
    "import numpy as np\n",
    "from numba import jit\n",
    "import matplotlib.pyplot as plt\n",
    "from copy import deepcopy"
   ]
  },
  {
   "cell_type": "code",
   "execution_count": 2,
   "id": "62a063e7",
   "metadata": {},
   "outputs": [],
   "source": [
    "def jit_fo(f):\n",
    "    return jit(f, forceobj=True)"
   ]
  },
  {
   "cell_type": "markdown",
   "id": "8489ede1",
   "metadata": {},
   "source": [
    "# Slightly related piece of code illustrating Numba JIT efficiency"
   ]
  },
  {
   "cell_type": "code",
   "execution_count": 3,
   "id": "f356ef27",
   "metadata": {},
   "outputs": [],
   "source": [
    "@jit\n",
    "def random_walk_jit(N, step=0.1):\n",
    "    trajectory = np.zeros((N, 2))\n",
    "    trajectory[0] = np.random.rand(2)\n",
    "    for i in range(1, N):\n",
    "        delta = step*(np.random.rand(2) - 0.5)\n",
    "        trajectory[i] = trajectory[i - 1] + delta\n",
    "    return trajectory\n",
    "\n",
    "def random_walk(N, step=0.1):\n",
    "    trajectory = np.zeros((N, 2))\n",
    "    trajectory[0] = np.random.rand(2)\n",
    "    for i in range(1, N):\n",
    "        delta = step*(np.random.rand(2) - 0.5)\n",
    "        trajectory[i] = trajectory[i - 1] + delta\n",
    "    return trajectory"
   ]
  },
  {
   "cell_type": "code",
   "execution_count": 4,
   "id": "40d80006",
   "metadata": {},
   "outputs": [
    {
     "name": "stdout",
     "output_type": "stream",
     "text": [
      "Done\n",
      "CPU times: user 33.7 s, sys: 336 ms, total: 34 s\n",
      "Wall time: 34.3 s\n"
     ]
    }
   ],
   "source": [
    "%%time\n",
    "random_walk(10_000_000)\n",
    "print(\"Done\")"
   ]
  },
  {
   "cell_type": "code",
   "execution_count": 5,
   "id": "d042f0d8",
   "metadata": {},
   "outputs": [
    {
     "name": "stdout",
     "output_type": "stream",
     "text": [
      "Done\n",
      "CPU times: user 3.67 s, sys: 113 ms, total: 3.78 s\n",
      "Wall time: 3.87 s\n"
     ]
    }
   ],
   "source": [
    "%%time\n",
    "random_walk_jit(10_000_000)\n",
    "print(\"Done\")"
   ]
  },
  {
   "cell_type": "markdown",
   "id": "5713646c",
   "metadata": {},
   "source": [
    "---"
   ]
  },
  {
   "cell_type": "markdown",
   "id": "d85f89e1",
   "metadata": {},
   "source": [
    "This <strong>homework session 2</strong> of <strong>Statistical Mechanics: Algorithms and Computations</strong>  is entirely concerned with the equiprobability principle at the heart  of the hard-disk system and, more generally, of statistical physics.</p><p>The  <strong>session</strong> is divided into<strong> two parts (A, B)</strong>.</p><p>In the <strong>first part</strong>, you <strong>verify</strong> the <strong>equiprobability </strong>principle <strong>directly</strong> for the algorithms <strong> direct_disks_box.py, markov_disks_box.py and event_disks_box.py</strong>. For direct sampling, equiprobability follows from Michael's discussion in Tutorial 2, and for Markov-chain sampling, from <strong>detailed balance</strong>, <strong>aperiodicity</strong> and <strong>irreducibility</strong>.  Nevertheless, it will be useful to check it again.  For molecular  dynamics in contrast, equiprobability is hard to prove: It is the fruit  of divine intuition (L. Boltzmann, 19th century) and of decades of work  in mathematics (Sinai, Simanyi), as explained in lecture 2. So it will  be useful to spend an hour or two to see equiprobability <strong>with our own eyes</strong>, and with our own program, <strong>event_disks_box.py</strong>.</p><p>If in section<strong> A</strong>, you check equiprobability directly but do not reach great precision, you will perform an indirect <strong>high-precision check</strong> of equiprobability in Section <strong>B</strong>. The outcome there will be frankly paradoxical: After having proven equiprobability for all three algorithms in section <strong>A</strong>,  you will see that, YES, all three algorithms are the same but, NO, not  everything is equiprobable.</p><p>What we will touch on in this homework will  become the main theme of week 3 of <strong>Statistical Mechanics: Algorithms and Computations.</strong></p><p>NB: The<strong> equiprobability principle</strong> is a <strong>summit</strong> of Statistical Mechanics. Doing this homework is like climbing <strong>Kilimanjaro</strong>.</p><p>NB2: In Sections <strong>A</strong>,  we use lists (L is a list, it has square brackets []), tuples (conf_a  is a tuple of tuples, with round brackets ()), and dictionaries (hits is  a dictionary, with curly brackets {}). This week, you don't need to  understand all of this precisely. You should just know that these data  types exist. They are the bread and butter of Python."
   ]
  },
  {
   "cell_type": "markdown",
   "id": "f940145f",
   "metadata": {},
   "source": [
    "# Part A: Equiprobability Principle, directly\n",
    "Using  small boxes $[x - \\Delta_{xy}, x + \\Delta_{xy}]$, etc,  modify the program  direct_disks_box_multirun.py to show that the probability to sample  configurations a, b, and c are the same (within the numerical  precision), with"
   ]
  },
  {
   "cell_type": "code",
   "execution_count": 6,
   "id": "4149d2a5",
   "metadata": {},
   "outputs": [],
   "source": [
    "A = np.asarray(\n",
    "    (\n",
    "        (0.30, 0.30),\n",
    "        (0.30, 0.70),\n",
    "        (0.70, 0.30),\n",
    "        (0.70, 0.70),\n",
    "    )\n",
    ")\n",
    "B = np.asarray(\n",
    "    (\n",
    "        (0.20, 0.20),\n",
    "        (0.20, 0.80),\n",
    "        (0.75, 0.25),\n",
    "        (0.75, 0.75),\n",
    "    )\n",
    ")\n",
    "C = np.asarray(\n",
    "    (\n",
    "        (0.30, 0.20),\n",
    "        (0.30, 0.80),\n",
    "        (0.70, 0.20),\n",
    "        (0.70, 0.70),\n",
    "    )\n",
    ")"
   ]
  },
  {
   "cell_type": "markdown",
   "id": "985ef1f4",
   "metadata": {},
   "source": [
    "## Reference implementation"
   ]
  },
  {
   "cell_type": "code",
   "execution_count": 7,
   "id": "23cde344",
   "metadata": {},
   "outputs": [],
   "source": [
    "import random, math"
   ]
  },
  {
   "cell_type": "code",
   "execution_count": 8,
   "id": "74bd2b35",
   "metadata": {},
   "outputs": [],
   "source": [
    "def direct_disks_box(N, sigma):\n",
    "    condition = False\n",
    "    while condition == False:\n",
    "        L = [(random.uniform(sigma, 1.0 - sigma), random.uniform(sigma, 1.0 - sigma))]\n",
    "        for k in range(1, N):\n",
    "            a = (random.uniform(sigma, 1.0 - sigma), random.uniform(sigma, 1.0 - sigma))\n",
    "            min_dist = min(math.sqrt((a[0] - b[0]) ** 2 + (a[1] - b[1]) ** 2) for b in L)\n",
    "            if min_dist < 2.0 * sigma:\n",
    "                condition = False\n",
    "                break\n",
    "            else:\n",
    "                L.append(a)\n",
    "                condition = True\n",
    "    return np.asarray(L)"
   ]
  },
  {
   "cell_type": "code",
   "execution_count": 9,
   "id": "f962ca1a",
   "metadata": {},
   "outputs": [
    {
     "name": "stdout",
     "output_type": "stream",
     "text": [
      "CPU times: user 73 µs, sys: 0 ns, total: 73 µs\n",
      "Wall time: 76.1 µs\n"
     ]
    },
    {
     "data": {
      "text/plain": [
       "array([[0.84312569, 0.68506867],\n",
       "       [0.28572348, 0.68476185],\n",
       "       [0.52605405, 0.4744522 ],\n",
       "       [0.24910814, 0.196862  ]])"
      ]
     },
     "execution_count": 9,
     "metadata": {},
     "output_type": "execute_result"
    }
   ],
   "source": [
    "%%time\n",
    "direct_disks_box(4, 0.15)"
   ]
  },
  {
   "cell_type": "code",
   "execution_count": 10,
   "id": "e80f69e0",
   "metadata": {},
   "outputs": [],
   "source": [
    "def run_multi(n_runs=1_000_000, sigma=0.15, del_xy=0.05):\n",
    "    configurations = {\n",
    "        \"conf_a\": A,\n",
    "        \"conf_b\": B,\n",
    "        \"conf_c\": C,\n",
    "    }\n",
    "    hits = {\"conf_a\": 0, \"conf_b\": 0, \"conf_c\": 0}\n",
    "    samples = np.zeros((n_runs, 4, 2))\n",
    "    \n",
    "    for run in range(n_runs):\n",
    "        x_vec = direct_disks_box(4, sigma)\n",
    "        samples[run] = np.asarray(x_vec)\n",
    "        for conf in configurations:\n",
    "            condition_hit = True\n",
    "            for b in configurations[conf]:\n",
    "                condition_b = min(\n",
    "                    max(\n",
    "                        abs(a[0] - b[0]),\n",
    "                        abs(a[1] - b[1])\n",
    "                    ) for a in x_vec\n",
    "                ) < del_xy\n",
    "                condition_hit *= condition_b\n",
    "            if condition_hit:\n",
    "                hits[conf] += 1\n",
    "\n",
    "    for conf in configurations:\n",
    "        print(conf, hits[conf])\n",
    "    return samples"
   ]
  },
  {
   "cell_type": "code",
   "execution_count": 11,
   "id": "220e2c15",
   "metadata": {},
   "outputs": [
    {
     "name": "stdout",
     "output_type": "stream",
     "text": [
      "Run 1\n",
      "conf_a 0\n",
      "conf_b 0\n",
      "conf_c 0\n",
      "\n",
      "Run 2\n",
      "conf_a 1\n",
      "conf_b 0\n",
      "conf_c 0\n",
      "\n",
      "Run 3\n",
      "conf_a 1\n",
      "conf_b 0\n",
      "conf_c 1\n",
      "\n"
     ]
    }
   ],
   "source": [
    "for i in range(3):\n",
    "    print(f\"Run {i + 1}\")\n",
    "    run_multi(10, del_xy=0.1)\n",
    "    print()"
   ]
  },
  {
   "cell_type": "markdown",
   "id": "46f69949",
   "metadata": {},
   "source": [
    "## Markov chain implementation"
   ]
  },
  {
   "cell_type": "raw",
   "id": "7044e20e",
   "metadata": {},
   "source": [
    "L = [[0.25, 0.25], [0.75, 0.25], [0.25, 0.75], [0.75, 0.75]]\n",
    "sigma = 0.15\n",
    "sigma_sq = sigma ** 2\n",
    "delta = 0.1\n",
    "n_steps = 1000\n",
    "for steps in range(n_steps):\n",
    "    a = random.choice(L)\n",
    "    b = [a[0] + random.uniform(-delta, delta), a[1] + random.uniform(-delta, delta)]\n",
    "    min_dist = min((b[0] - c[0]) ** 2 + (b[1] - c[1]) ** 2 for c in L if c != a)\n",
    "    box_cond = min(b[0], b[1]) < sigma or max(b[0], b[1]) > 1.0 - sigma\n",
    "    if not (box_cond or min_dist < 4.0 * sigma ** 2):\n",
    "        a[:] = b\n",
    "print L\n"
   ]
  },
  {
   "cell_type": "code",
   "execution_count": 38,
   "id": "467dd69d",
   "metadata": {},
   "outputs": [],
   "source": [
    "def markov_disks_box_iterator(initial_state, sigma=0.15, delta=0.01):\n",
    "    L = deepcopy(initial_state)\n",
    "    yield list(L)\n",
    "    while True:\n",
    "        a_index = np.random.randint(4)\n",
    "        a = L[a_index]\n",
    "        b = [\n",
    "            a[0] + random.uniform(-delta, delta),\n",
    "            a[1] + random.uniform(-delta, delta),\n",
    "        ]\n",
    "        min_dist = min(\n",
    "            pow(b[0] - L[c][0], 2) + pow(b[1] - L[c][1], 2)\n",
    "            for c in range(4) if c != a_index\n",
    "        )\n",
    "        box_cond = min(b[0], b[1]) < sigma or max(b[0], b[1]) > 1.0 - sigma\n",
    "        if not (box_cond or min_dist < 4.0 * sigma ** 2):\n",
    "            L[a_index] = b\n",
    "        yield list(L)  # list(L) freezes the current state"
   ]
  },
  {
   "cell_type": "code",
   "execution_count": 44,
   "id": "a0926c3f",
   "metadata": {},
   "outputs": [],
   "source": [
    "def run_multi_markov(initial_state, n_steps=1_000_000, sigma=0.15, step=0.1, del_xy=0.05):\n",
    "    configurations = {\n",
    "        \"conf_a\": A,\n",
    "        \"conf_b\": B,\n",
    "        \"conf_c\": C,\n",
    "    }\n",
    "    hits = {\"conf_a\": 0, \"conf_b\": 0, \"conf_c\": 0}\n",
    "    samples = []\n",
    "    markov_disks_box_generator = markov_disks_box_iterator(\n",
    "        initial_state,\n",
    "        sigma,\n",
    "        step,\n",
    "    )\n",
    "    \n",
    "    for run in range(n_steps):\n",
    "        x_vec = next(markov_disks_box_generator)\n",
    "        samples.append(x_vec)\n",
    "        for conf in configurations:\n",
    "            condition_hit = True\n",
    "            for b in configurations[conf]:\n",
    "                condition_b = min(\n",
    "                    max(\n",
    "                        abs(a[0] - b[0]),\n",
    "                        abs(a[1] - b[1])\n",
    "                    ) for a in x_vec\n",
    "                ) < del_xy\n",
    "                condition_hit *= condition_b\n",
    "            if condition_hit:\n",
    "                hits[conf] += 1\n",
    "\n",
    "    for conf in configurations:\n",
    "        print(conf, hits[conf])\n",
    "    return np.asarray(samples)"
   ]
  },
  {
   "cell_type": "code",
   "execution_count": 60,
   "id": "b46df18b",
   "metadata": {},
   "outputs": [],
   "source": [
    "init_state = [[0.25, 0.25], [0.75, 0.25], [0.25, 0.75], [0.75, 0.75]]"
   ]
  },
  {
   "cell_type": "code",
   "execution_count": 62,
   "id": "533466eb",
   "metadata": {},
   "outputs": [
    {
     "name": "stdout",
     "output_type": "stream",
     "text": [
      "10000 steps:\n",
      "Run #1\n",
      "conf_a 2\n",
      "conf_b 0\n",
      "conf_c 6\n",
      "[[0.25, 0.25], [0.75, 0.25], [0.25, 0.75], [0.75, 0.75]]\n",
      "Run #2\n",
      "conf_a 0\n",
      "conf_b 0\n",
      "conf_c 0\n",
      "[[0.25, 0.25], [0.75, 0.25], [0.25, 0.75], [0.75, 0.75]]\n",
      "Run #3\n",
      "conf_a 3\n",
      "conf_b 3\n",
      "conf_c 2\n",
      "[[0.25, 0.25], [0.75, 0.25], [0.25, 0.75], [0.75, 0.75]]\n",
      "100000 steps:\n",
      "Run #1\n",
      "conf_a 18\n",
      "conf_b 7\n",
      "conf_c 8\n",
      "[[0.25, 0.25], [0.75, 0.25], [0.25, 0.75], [0.75, 0.75]]\n",
      "Run #2\n",
      "conf_a 2\n",
      "conf_b 13\n",
      "conf_c 3\n",
      "[[0.25, 0.25], [0.75, 0.25], [0.25, 0.75], [0.75, 0.75]]\n",
      "Run #3\n",
      "conf_a 6\n",
      "conf_b 14\n",
      "conf_c 15\n",
      "[[0.25, 0.25], [0.75, 0.25], [0.25, 0.75], [0.75, 0.75]]\n",
      "1000000 steps:\n",
      "Run #1\n",
      "conf_a 91\n",
      "conf_b 95\n",
      "conf_c 117\n",
      "[[0.25, 0.25], [0.75, 0.25], [0.25, 0.75], [0.75, 0.75]]\n",
      "Run #2\n",
      "conf_a 126\n",
      "conf_b 118\n",
      "conf_c 131\n",
      "[[0.25, 0.25], [0.75, 0.25], [0.25, 0.75], [0.75, 0.75]]\n",
      "Run #3\n",
      "conf_a 93\n",
      "conf_b 99\n",
      "conf_c 70\n",
      "[[0.25, 0.25], [0.75, 0.25], [0.25, 0.75], [0.75, 0.75]]\n"
     ]
    }
   ],
   "source": [
    "for nsteps in [10_000, 100_000, 1_000_000]:\n",
    "    print(f\"{nsteps} steps:\")\n",
    "    for run in range(3):\n",
    "        print(f\"Run #{run + 1}\")\n",
    "        run_multi_markov(\n",
    "            init_state,\n",
    "            nsteps,\n",
    "            sigma=0.15,\n",
    "            step=0.1,\n",
    "            del_xy=0.05,\n",
    "        )\n",
    "        print(init_state)"
   ]
  },
  {
   "cell_type": "markdown",
   "id": "f47fab9c",
   "metadata": {},
   "source": [
    "## Event-based Implementation"
   ]
  },
  {
   "cell_type": "code",
   "execution_count": null,
   "id": "b8a4dad8",
   "metadata": {},
   "outputs": [],
   "source": [
    "def wall_time(pos_a, vel_a, sigma):\n",
    "    if vel_a > 0.0:\n",
    "        del_t = (1.0 - sigma - pos_a) / vel_a\n",
    "    elif vel_a < 0.0:\n",
    "        del_t = (pos_a - sigma) / abs(vel_a)\n",
    "    else:\n",
    "        del_t = float('inf')\n",
    "    return del_t\n",
    "\n",
    "def pair_time(pos_a, vel_a, pos_b, vel_b, sigma):\n",
    "    del_x = [pos_b[0] - pos_a[0], pos_b[1] - pos_a[1]]\n",
    "    del_x_sq = del_x[0] ** 2 + del_x[1] ** 2\n",
    "    del_v = [vel_b[0] - vel_a[0], vel_b[1] - vel_a[1]]\n",
    "    del_v_sq = del_v[0] ** 2 + del_v[1] ** 2\n",
    "    scal = del_v[0] * del_x[0] + del_v[1] * del_x[1]\n",
    "    Upsilon = scal ** 2 - del_v_sq * ( del_x_sq - 4.0 * sigma **2)\n",
    "    if Upsilon > 0.0 and scal < 0.0:\n",
    "        del_t = - (scal + math.sqrt(Upsilon)) / del_v_sq\n",
    "    else:\n",
    "        del_t = float('inf')\n",
    "    return del_t\n",
    "\n",
    "conf_a = ((0.30, 0.30), (0.30, 0.70), (0.70, 0.30), (0.70,0.70))\n",
    "conf_b = ((0.20, 0.20), (0.20, 0.80), (0.75, 0.25), (0.75,0.75))\n",
    "conf_c = ((0.30, 0.20), (0.30, 0.80), (0.70, 0.20), (0.70,0.70))\n",
    "configurations = [conf_a, conf_b, conf_c]\n",
    "hits = {conf_a: 0, conf_b: 0, conf_c: 0}\n",
    "del_xy = 0.10\n",
    "pos = [[0.25, 0.25], [0.75, 0.25], [0.25, 0.75], [0.75, 0.75]]\n",
    "vel = [[0.21, 0.12], [0.71, 0.18], [-0.23, -0.79], [0.78, 0.1177]]\n",
    "singles = [(0, 0), (0, 1), (1, 0), (1, 1), (2, 0), (2, 1), (3, 0), (3, 1)]\n",
    "pairs = [(0, 1), (0, 2), (0, 3), (1, 2), (1, 3), (2, 3)]\n",
    "sigma = 0.10\n",
    "t = 0.0\n",
    "n_events = 5000000\n",
    "for event in range(n_events):\n",
    "    if event % 100000 == 0:\n",
    "        print event\n",
    "    wall_times = [wall_time(pos[k][l], vel[k][l], sigma) for k, l  in singles]\n",
    "    pair_times = [pair_time(pos[k], vel[k], pos[l], vel[l], sigma) for k, l in pairs]\n",
    "    next_event = min(wall_times + pair_times)\n",
    "    t_previous = t\n",
    "    for inter_times in range(int(t + 1), int(t + next_event + 1)):\n",
    "        del_t = inter_times - t_previous\n",
    "        for k, l in singles:\n",
    "            pos[k][l] += vel[k][l] * del_t\n",
    "        t_previous = inter_times\n",
    "        for conf in configurations:\n",
    "            condition_hit = True\n",
    "            for b in conf:\n",
    "                condition_b = min(max(abs(a[0] - b[0]), abs(a[1] - b[1])) for a in pos) < del_xy\n",
    "                condition_hit *= condition_b\n",
    "            if condition_hit:\n",
    "                hits[conf] += 1\n",
    "    t += next_event\n",
    "    del_t = t - t_previous\n",
    "    for k, l in singles:\n",
    "        pos[k][l] += vel[k][l] * del_t\n",
    "    if min(wall_times) < min(pair_times):\n",
    "        collision_disk, direction = singles[wall_times.index(next_event)]\n",
    "        vel[collision_disk][direction] *= -1.0\n",
    "    else:\n",
    "        a, b = pairs[pair_times.index(next_event)]\n",
    "        del_x = [pos[b][0] - pos[a][0], pos[b][1] - pos[a][1]]\n",
    "        abs_x = math.sqrt(del_x[0] ** 2 + del_x[1] ** 2)\n",
    "        e_perp = [c / abs_x for c in del_x]\n",
    "        del_v = [vel[b][0] - vel[a][0], vel[b][1] - vel[a][1]]\n",
    "        scal = del_v[0] * e_perp[0] + del_v[1] * e_perp[1]\n",
    "        for k in range(2):\n",
    "            vel[a][k] += e_perp[k] * scal\n",
    "            vel[b][k] -= e_perp[k] * scal\n",
    "\n",
    "for conf in configurations:\n",
    "    print conf, hits[conf]"
   ]
  },
  {
   "cell_type": "code",
   "execution_count": 72,
   "id": "e0d6c3cb",
   "metadata": {},
   "outputs": [],
   "source": [
    "def vec_diff(vec_a, vec_b):\n",
    "    return map(\n",
    "        lambda p: p[1] - p[0],\n",
    "        zip(vec_a, vec_b)\n",
    "    )\n",
    "\n",
    "def vec_sq_distance(vec_a, vec_b):\n",
    "    return sum(\n",
    "        map(\n",
    "            lambda x: pow(x, 2),\n",
    "            vec_diff(vec_a, vec_b)\n",
    "        )\n",
    "    )\n",
    "\n",
    "def dot_product(vec_a, vec_b):\n",
    "    return sum(\n",
    "        map(\n",
    "            lambda p: p[0]*p[1],\n",
    "            zip(vec_a, vec_b)\n",
    "        )\n",
    "    )"
   ]
  },
  {
   "cell_type": "code",
   "execution_count": 63,
   "id": "4a016b9a",
   "metadata": {},
   "outputs": [],
   "source": [
    "def wall_time(pos_a, vel_a, sigma):\n",
    "    if vel_a > 0.0:\n",
    "        del_t = (1.0 - sigma - pos_a) / vel_a\n",
    "    elif vel_a < 0.0:\n",
    "        del_t = (pos_a - sigma) / abs(vel_a)\n",
    "    else:\n",
    "        del_t = float('inf')\n",
    "    return del_t"
   ]
  },
  {
   "cell_type": "code",
   "execution_count": 73,
   "id": "c1ebf960",
   "metadata": {},
   "outputs": [],
   "source": [
    "def pair_time(pos_a, vel_a, pos_b, vel_b, sigma):\n",
    "    del_x = vec_diff(pos_a, pos_b)\n",
    "    del_x_sq = vec_sq_distance(pos_a, pos_b)\n",
    "    \n",
    "    del_v = vec_diff(vel_a, vel_b)\n",
    "    del_v_sq = vec_sq_distance(vel_a, vel_b)\n",
    "    \n",
    "    scal = dot_product(del_v, del_x)\n",
    "    \n",
    "    Upsilon = pow(scal, 2) - del_v_sq*(del_x_sq - 4.0*pow(sigma, 2))\n",
    "    if Upsilon > 0.0 and scal < 0.0:\n",
    "        del_t = -(scal + math.sqrt(Upsilon))/del_v_sq\n",
    "    else:\n",
    "        del_t = float('inf')\n",
    "    return del_t"
   ]
  },
  {
   "cell_type": "code",
   "execution_count": 124,
   "id": "be506ad0",
   "metadata": {},
   "outputs": [],
   "source": [
    "def run_multi_events(\n",
    "        n_events,\n",
    "        positions,\n",
    "        velocities,\n",
    "        sigma=0.1,\n",
    "        del_xy=0.10,\n",
    "    ):\n",
    "    conf_a = ((0.30, 0.30), (0.30, 0.70), (0.70, 0.30), (0.70,0.70))\n",
    "    conf_b = ((0.20, 0.20), (0.20, 0.80), (0.75, 0.25), (0.75,0.75))\n",
    "    conf_c = ((0.30, 0.20), (0.30, 0.80), (0.70, 0.20), (0.70,0.70))\n",
    "    configurations = {\n",
    "        \"conf_a\": conf_a,\n",
    "        \"conf_b\": conf_b,\n",
    "        \"conf_c\": conf_c,\n",
    "    }\n",
    "    hits = {\"conf_a\": 0, \"conf_b\": 0, \"conf_c\": 0}\n",
    "    t = .0\n",
    "    times = []\n",
    "    singles = [\n",
    "        (particle, axis)\n",
    "        for particle in range(4)\n",
    "        for axis in range(2)\n",
    "    ]\n",
    "    pairs = [\n",
    "        (p1, p2)\n",
    "        for p1 in range(4)\n",
    "        for p2 in range(4)\n",
    "        if p2 > p1\n",
    "    ]\n",
    "    \n",
    "    for event in range(n_events):\n",
    "        if event % 100_000 == 0:\n",
    "            print(event)\n",
    "            print(*map(lambda v: f\"[{v[0]:+.2f} {v[1]:+.2f}]\", positions))\n",
    "            print(*map(lambda v: f\"[{v[0]:+.2f} {v[1]:+.2f}]\", velocities))\n",
    "    \n",
    "        wall_times = [\n",
    "            wall_time(\n",
    "                positions[particle][axis],\n",
    "                velocities[particle][axis],\n",
    "                sigma\n",
    "            )\n",
    "            for particle, axis  in singles\n",
    "        ]\n",
    "        pair_times = [\n",
    "            pair_time(\n",
    "                positions[p1],\n",
    "                velocities[p1],\n",
    "                positions[p2],\n",
    "                velocities[p2],\n",
    "                sigma\n",
    "            )\n",
    "            for p1, p2 in pairs\n",
    "        ]\n",
    "        next_event = min(wall_times + pair_times)\n",
    "    \n",
    "        t_previous = t\n",
    "        for inter_times in range(int(t + 1), int(t + next_event + 1)):\n",
    "            del_t = inter_times - t_previous\n",
    "            for particle, axis in singles:\n",
    "                positions[particle][axis] += velocities[particle][axis]*del_t\n",
    "            t_previous = inter_times\n",
    "            times.append(t_previous)\n",
    "            \n",
    "            for conf in configurations:\n",
    "                condition_hit = True\n",
    "                for b in configurations[conf]:\n",
    "                    condition_b = min(\n",
    "                        max(\n",
    "                            map(\n",
    "                                abs, vec_diff(a, b)\n",
    "                            )\n",
    "                        )\n",
    "                        for a in positions\n",
    "                    ) < del_xy\n",
    "                    condition_hit *= condition_b\n",
    "                if condition_hit:\n",
    "                    hits[conf] += 1\n",
    "\n",
    "        t += next_event\n",
    "        del_t = t - t_previous\n",
    "        # why?\n",
    "        for particle, axis in singles:\n",
    "            positions[particle][axis] += velocities[particle][axis]*del_t\n",
    "        if min(wall_times) < min(pair_times):\n",
    "            collision_disk, direction = singles[wall_times.index(next_event)]\n",
    "            velocities[collision_disk][direction] *= -1.0\n",
    "        else:\n",
    "            a, b = pairs[pair_times.index(next_event)]\n",
    "            del_x = [positions[b][0] - positions[a][0], positions[b][1] - positions[a][1]]\n",
    "            abs_x = math.sqrt(del_x[0] ** 2 + del_x[1] ** 2)\n",
    "            e_perp = [c / abs_x for c in del_x]\n",
    "            del_v = [velocities[b][0] - velocities[a][0], velocities[b][1] - velocities[a][1]]\n",
    "            scal = dot_product(del_v, e_perp)\n",
    "            for k in range(2):\n",
    "                velocities[a][k] += e_perp[k] * scal\n",
    "                velocities[b][k] -= e_perp[k] * scal\n",
    "\n",
    "    return hits, times, t\n",
    "        "
   ]
  },
  {
   "cell_type": "code",
   "execution_count": 125,
   "id": "78125a8b",
   "metadata": {},
   "outputs": [],
   "source": [
    "pos = [[0.25, 0.25], [0.75, 0.25], [0.25, 0.75], [0.75, 0.75]]\n",
    "vel = [[0.21, 0.12], [0.71, 0.18], [-0.23, -0.79], [0.78, 0.1177]]"
   ]
  },
  {
   "cell_type": "code",
   "execution_count": 126,
   "id": "b77a6874",
   "metadata": {},
   "outputs": [
    {
     "name": "stdout",
     "output_type": "stream",
     "text": [
      "0\n",
      "[+0.25 +0.25] [+0.75 +0.25] [+0.25 +0.75] [+0.75 +0.75]\n",
      "[+0.21 +0.12] [+0.71 +0.18] [-0.23 -0.79] [+0.78 +0.12]\n",
      "100000\n",
      "[+0.63 +0.36] [+0.36 +0.24] [+0.18 +0.33] [+0.64 +0.68]\n",
      "[+1.06 +0.06] [+0.25 +0.53] [-0.33 +0.23] [-0.47 +0.19]\n",
      "200000\n",
      "[+0.88 +0.77] [+0.14 +0.49] [+0.60 +0.82] [+0.32 +0.59]\n",
      "[-0.06 +0.28] [-0.87 -0.08] [-0.36 +0.08] [+0.55 -0.78]\n",
      "300000\n",
      "[+0.44 +0.44] [+0.64 +0.47] [+0.10 +0.43] [+0.88 +0.61]\n",
      "[+0.06 +0.10] [+0.47 -0.14] [+0.97 -0.19] [+0.14 -0.80]\n",
      "400000\n",
      "[+0.24 +0.15] [+0.68 +0.18] [+0.14 +0.87] [+0.10 +0.50]\n",
      "[+0.74 -0.53] [+0.36 -0.46] [-0.35 +0.21] [+0.70 -0.26]\n",
      "500000\n",
      "[+0.12 +0.42] [+0.12 +0.67] [+0.37 +0.39] [+0.90 +0.35]\n",
      "[+0.56 -0.70] [-0.22 -0.30] [+0.64 +0.38] [-0.56 +0.26]\n",
      "600000\n",
      "[+0.22 +0.65] [+0.71 +0.90] [+0.19 +0.12] [+0.85 +0.66]\n",
      "[+0.46 -0.50] [-0.16 -0.80] [-0.08 +0.32] [-0.62 -0.52]\n",
      "700000\n",
      "[+0.50 +0.43] [+0.16 +0.22] [+0.35 +0.19] [+0.81 +0.70]\n",
      "[+0.46 -0.06] [-0.62 -0.14] [+0.93 +0.18] [-0.54 -0.29]\n",
      "800000\n",
      "[+0.13 +0.19] [+0.25 +0.77] [+0.69 +0.16] [+0.41 +0.10]\n",
      "[-0.18 +0.33] [-0.26 -0.59] [-0.28 +0.78] [+0.17 +0.79]\n",
      "900000\n",
      "[+0.72 +0.70] [+0.10 +0.83] [+0.38 +0.84] [+0.84 +0.12]\n",
      "[-0.48 +0.34] [+0.30 +0.39] [-0.43 -0.27] [+0.56 -0.86]\n"
     ]
    }
   ],
   "source": [
    "h, ts, t = run_multi_events(\n",
    "    1_000_000,\n",
    "    pos,\n",
    "    vel\n",
    ")"
   ]
  },
  {
   "cell_type": "code",
   "execution_count": 112,
   "id": "bcbeb26f",
   "metadata": {},
   "outputs": [
    {
     "data": {
      "text/plain": [
       "[1, 2, 3, 4, 5, 6, 7, 8, 9, 10]"
      ]
     },
     "execution_count": 112,
     "metadata": {},
     "output_type": "execute_result"
    }
   ],
   "source": [
    "ts[:10]"
   ]
  },
  {
   "cell_type": "code",
   "execution_count": 105,
   "id": "ad3c9ca1",
   "metadata": {},
   "outputs": [
    {
     "data": {
      "text/plain": [
       "611527.8984758859"
      ]
     },
     "execution_count": 105,
     "metadata": {},
     "output_type": "execute_result"
    }
   ],
   "source": [
    "t[-1]"
   ]
  },
  {
   "cell_type": "code",
   "execution_count": 128,
   "id": "ca9f185d",
   "metadata": {},
   "outputs": [
    {
     "data": {
      "image/png": "[encoded data removed]",
      "text/plain": [
       "<Figure size 640x480 with 1 Axes>"
      ]
     },
     "metadata": {},
     "output_type": "display_data"
    }
   ],
   "source": [
    "def direct_disks_box(N, sigma):\n",
    "    overlap = True\n",
    "    while overlap == True:\n",
    "        L = [(random.uniform(sigma, 1.0 - sigma), random.uniform(sigma, 1.0 - sigma))]\n",
    "        for k in range(1, N):\n",
    "            a = (random.uniform(sigma, 1.0 - sigma), random.uniform(sigma, 1.0 - sigma))\n",
    "            min_dist_sq = min(((a[0] - b[0]) ** 2 + (a[1] - b[1]) ** 2) for b in L)\n",
    "            if min_dist_sq < 4.0 * sigma ** 2:\n",
    "                overlap = True\n",
    "                break\n",
    "            else:\n",
    "                overlap = False\n",
    "                L.append(a)\n",
    "    return L\n",
    "\n",
    "\n",
    "N = 4\n",
    "sigma = 0.1197\n",
    "n_runs = 1000000\n",
    "histo_data = []\n",
    "for run in range(n_runs):\n",
    "    pos = direct_disks_box(N, sigma)\n",
    "    for k in range(N):\n",
    "        histo_data.append(pos[k][0])\n",
    "fig, ax = plt.subplots()\n",
    "ax.hist(histo_data, bins=np.linspace(0, 1, 120))\n",
    "ax.set_xlabel('x')\n",
    "ax.set_ylabel('frequency')\n",
    "ax.set_title('Direct sampling: x coordinate histogram (density eta=0.18)')\n",
    "fig.savefig('direct_disks_histo.png')\n"
   ]
  },
  {
   "cell_type": "code",
   "execution_count": 131,
   "id": "4a7aa680",
   "metadata": {},
   "outputs": [],
   "source": [
    "import heapq as hq"
   ]
  },
  {
   "cell_type": "code",
   "execution_count": 165,
   "id": "bdfac633",
   "metadata": {},
   "outputs": [],
   "source": [
    "h = hq.heapify([])"
   ]
  },
  {
   "cell_type": "code",
   "execution_count": 166,
   "id": "a34a2fa0",
   "metadata": {},
   "outputs": [
    {
     "ename": "TypeError",
     "evalue": "heap argument must be a list",
     "output_type": "error",
     "traceback": [
      "\u001b[0;31m---------------------------------------------------------------------------\u001b[0m",
      "\u001b[0;31mTypeError\u001b[0m                                 Traceback (most recent call last)",
      "Input \u001b[0;32mIn [166]\u001b[0m, in \u001b[0;36m<cell line: 1>\u001b[0;34m()\u001b[0m\n\u001b[1;32m      1\u001b[0m \u001b[38;5;28;01mfor\u001b[39;00m i \u001b[38;5;129;01min\u001b[39;00m \u001b[38;5;28mrange\u001b[39m(\u001b[38;5;241m10\u001b[39m, \u001b[38;5;241m0\u001b[39m, \u001b[38;5;241m-\u001b[39m\u001b[38;5;241m1\u001b[39m):\n\u001b[0;32m----> 2\u001b[0m     \u001b[43mhq\u001b[49m\u001b[38;5;241;43m.\u001b[39;49m\u001b[43mheappush\u001b[49m\u001b[43m(\u001b[49m\u001b[43mh\u001b[49m\u001b[43m,\u001b[49m\u001b[43m \u001b[49m\u001b[43mi\u001b[49m\u001b[43m)\u001b[49m\n",
      "\u001b[0;31mTypeError\u001b[0m: heap argument must be a list"
     ]
    }
   ],
   "source": [
    "for i in range(10, 0, -1):\n",
    "    hq.heappush(h, i)"
   ]
  },
  {
   "cell_type": "code",
   "execution_count": 162,
   "id": "f6bc04ff",
   "metadata": {},
   "outputs": [
    {
     "ename": "IndexError",
     "evalue": "index out of range",
     "output_type": "error",
     "traceback": [
      "\u001b[0;31m---------------------------------------------------------------------------\u001b[0m",
      "\u001b[0;31mIndexError\u001b[0m                                Traceback (most recent call last)",
      "Input \u001b[0;32mIn [162]\u001b[0m, in \u001b[0;36m<cell line: 1>\u001b[0;34m()\u001b[0m\n\u001b[0;32m----> 1\u001b[0m \u001b[43mhq\u001b[49m\u001b[38;5;241;43m.\u001b[39;49m\u001b[43mheappop\u001b[49m\u001b[43m(\u001b[49m\u001b[43mh\u001b[49m\u001b[43m)\u001b[49m\n",
      "\u001b[0;31mIndexError\u001b[0m: index out of range"
     ]
    }
   ],
   "source": [
    "hq.heappop(h)"
   ]
  },
  {
   "cell_type": "code",
   "execution_count": null,
   "id": "3c00353c",
   "metadata": {},
   "outputs": [],
   "source": []
  }
 ],
 "metadata": {
  "kernelspec": {
   "display_name": "Python 3 (ipykernel)",
   "language": "python",
   "name": "python3"
  },
  "language_info": {
   "codemirror_mode": {
    "name": "ipython",
    "version": 3
   },
   "file_extension": ".py",
   "mimetype": "text/x-python",
   "name": "python",
   "nbconvert_exporter": "python",
   "pygments_lexer": "ipython3",
   "version": "3.9.13"
  }
 },
 "nbformat": 4,
 "nbformat_minor": 5
}
